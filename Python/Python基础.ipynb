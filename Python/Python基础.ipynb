{
 "metadata": {
  "name": "",
  "signature": "sha256:c98ccf4af90999ad476c6fae3f2805743ddc1c1d558e21befaf071a47efdb512"
 },
 "nbformat": 3,
 "nbformat_minor": 0,
 "worksheets": [
  {
   "cells": [
    {
     "cell_type": "markdown",
     "metadata": {},
     "source": [
      "####\u4e00\u3001GIL\uff08\u5168\u5c40\u89e3\u91ca\u5668\u9501\uff09\n",
      "* Python\u7684\u89e3\u91ca\u5668\u53ef\u4ee5\u7406\u89e3\u4e3aPython\u7684\u8fd0\u884c\u73af\u5883\uff0c\u7c7b\u4f3c\u4e8eJVM\u3002\n",
      "* CPython\u4e2d\u7684\u7ebf\u7a0b\u662f\u64cd\u4f5c\u7cfb\u7edf\u4e2d\u7684\u539f\u751f\u7ebf\u7a0b\uff0c\u5e76\u6709\u591a\u6761\u7528\u6237\u7a0b\u5e8f\u7684\u6267\u884c\u7ebf\u7a0b\u3002\n",
      "* \u7531\u4e8eGIL\u7684\u5b58\u5728\uff0c\u5728\u89e3\u91ca\u5668\u6267\u884c\u4efb\u4f55Python\u4ee3\u7801\u65f6\u90fd\u8981\u9996\u5148\u83b7\u5f97\u8fd9\u4e2aGIL\uff0c\u56e0\u6b64\u5373\u4f7f\u5728\u591a\u6838\u5904\u7406\u5668\u4e2d\u4e5f\u7981\u6b62\u4e86\u7ebf\u7a0b\u7684\u5e76\u884c\u6267\u884c\u3002\n",
      "* \u5f53\u7528\u6237\u8fdb\u7a0b\u6267\u884cIO\u64cd\u4f5c\u6216\u8005\u5360\u7528CPU\u8d85\u8fc7\u4e00\u5b9aticks\uff08\u4e00\u822c100\u6b21\uff0cPython\u865a\u62df\u673a\u6307\u4ee4\uff0c\u4e0e\u5177\u4f53\u65f6\u95f4\u65e0\u5173\u3002Python3.2\u4e4b\u540e\u4f7f\u7528\u4e86\u65b0\u7684GIL\uff0c\u8d85\u8fc70.5ms\u5373\u88ab\u91ca\u653e\uff09\u88ab\u5f3a\u5236\u91ca\u653eGIL\u3002\n",
      "* \u53ef\u4ee5**\u4f7f\u7528Python\u7684multiprocessing\u6a21\u5757\u521b\u5efa**\u591a\u4e2a\u8fdb\u7a0b\u6765\u5b9e\u73b0\u5e76\u884c\uff0c\u4e5f\u53ef\u4ee5**\u5c06\u8ba1\u7b97\u5bc6\u96c6\u578b\u7684\u4efb\u52a1\u5199\u6210C/C++\u62d3\u5c55**\u3002\n",
      "* \u4e5f\u53ef\u4ee5**\u4f7f\u7528ctypes\u6a21\u5757\u6765\u76f4\u63a5\u5728Python\u4e2d\u8c03\u7528C\u52a8\u6001\u5e93\u7684\u5bfc\u51fa\u51fd\u6570**\u3002"
     ]
    },
    {
     "cell_type": "markdown",
     "metadata": {},
     "source": [
      "####\u4e8c\u3001 Lambda\u8868\u8fbe\u5f0f\n",
      "* Lambda\u8868\u8fbe\u5f0f\u4e3b\u8981\u7528\u6765\u751f\u6210\u533f\u540d\u51fd\u6570\uff0c\u5e38\u5e38\u4e0emap()\u3001reduce()\u3001filter()\u7b49\u7ed3\u5408\u4f7f\u7528\u3002\n",
      "* Lambda\u8868\u8fbe\u5f0f\u751f\u6210\u7684\u533f\u540d\u51fd\u6570\u53ef\u4ee5\u63a5\u53d7\u591a\u4e2a\u53c2\u6570\uff0c\u4f46\u662f\u4e0d\u80fd\u5305\u542b\u547d\u4ee4\uff0c\u4e5f\u53ea\u80fd\u6709\u4e00\u6761\u8868\u8fbe\u5f0f\u3002\n",
      "* \u8981\u907f\u514d\u6ee5\u7528Lanbda\u51fd\u6570\uff0c\u590d\u6742\u7684\u51fd\u6570\u4f7f\u7528def\u6765\u8fdb\u884c\u5b9a\u4e49\u3002\n",
      "```Python\n",
      "   \n",
      " sum2=lambda x,y:x+y\n",
      " squ=lambda x:x*x  \n",
      "```"
     ]
    },
    {
     "cell_type": "markdown",
     "metadata": {},
     "source": [
      "####\u4e09\u3001\u5185\u7f6e\u7684map, reduce, filter\u51fd\u6570\n",
      "```Python\n",
      "map(fun,iterable,......)\n",
      "```\n",
      " \u8f93\u5165\uff1a\u4e00\u4e2a\u51fd\u6570\uff0c\u82e5\u5e72iterable\u7684\u5bf9\u8c61\uff08\u51fd\u6570\u63a5\u53d7\u51e0\u4e2a\u53c2\u6570\u5c31\u6709\u51e0\u4e2aiterable\u7684\u5bf9\u8c61\uff0c\u5176\u957f\u5ea6\u5fc5\u987b\u76f8\u7b49\uff09\n",
      "\n",
      " \u8f93\u51fa\uff1a\u4e00\u4e2aiterable\u7684\u5bf9\u8c61\n",
      "```Python\n",
      "reduce(fun,iterable)\n",
      "```\n",
      " \u8f93\u5165\uff1a\u4e00\u4e2a\u51fd\u6570\uff0c\u4e00\u4e2aiterable\u5bf9\u8c61\n",
      " \u8f93\u51fa\uff1a\u4e00\u4e2avalue\n",
      "```Python\n",
      "filter(fun,iterable)\n",
      "```\n",
      " \u8f93\u5165\uff1a\u4e00\u4e2a\u51fd\u6570\uff0c\u4e00\u4e2aiterable\u5bf9\u8c61\n",
      " \u8f93\u51fa\uff1a\u7b26\u5408\u6761\u4ef6\u7684element\uff0c\u76f8\u5f53\u4e8e[item for item in iterable if item condition ]\n"
     ]
    },
    {
     "cell_type": "markdown",
     "metadata": {},
     "source": [
      "####\u56db\u3001\u5217\u8868\u751f\u6210\u5f0f\n",
      "* [expr for item in iterable]\n",
      "* [expr for item in iterable if condexpr]\n",
      "```Python\n",
      "l=[1,2,3,4,5,6,7]\n",
      "print [x*x for x in l]\n",
      "print [x for x in l if x%2==0]\n",
      "```"
     ]
    },
    {
     "cell_type": "markdown",
     "metadata": {},
     "source": [
      "####\u4e94\u3001\u5207\u7247\uff08slice\uff09\n",
      "\u672c\u90e8\u5206\u91cd\u70b9\u5728list\u7684\u7d22\u5f15\n",
      "   * l[index]--index\u4e0d\u5c0f\u4e8e0\u65f6\uff0c\u5176\u8303\u56f4\u4e3a[0:len(l)-1],\u5f53\u4f7f\u7528\u8d1f\u6570\u4f5c\u4e3aindex\u65f6\uff0c\u5176\u8303\u56f4\u4e3a[-1:-len(l)]\n",
      "   * l[beg:end:setp]--beg\u4e3a\u8d77\u59cbindex\uff0cend\u4e3a\u7ed3\u675findex\uff08\u4e0d\u5305\u62ecend\uff09\uff0cstep\u4e3a\u6b65\u8fdb\n",
      "```Python\n",
      "l=range(10)\n",
      "print l[0:10]\n",
      "#[0, 1, 2, 3, 4, 5, 6, 7, 8, 9]\n",
      "print l[-1:-11:-1]\n",
      "#[9, 8, 7, 6, 5, 4, 3, 2, 1, 0]\n",
      "```"
     ]
    },
    {
     "cell_type": "markdown",
     "metadata": {},
     "source": [
      "####\u516d\u3001\u88c5\u9970\u5668\n",
      "* Python\u7684\u88c5\u9970\u5668\u63a5\u53d7\u51fd\u6570\u4f5c\u4e3a\u53c2\u6570\uff0c\u5e76\u8fd4\u56de\u589e\u52a0\u4e86\u529f\u80fd\u7684\u65b0\u51fd\u6570\uff08\u4e3a\u5bf9\u8c61\u589e\u52a0\u529f\u80fd\uff0c\u5728Python\u4e2d\u51fd\u6570\u4e5f\u662f\u5bf9\u8c61\uff09\n",
      "```\n",
      "def decorator(func):\n",
      "   def warpper(*args,**kwargs):#\u4e00\u79cd\u7ea6\u5b9a\uff0c\u8fd9\u6837\u53ef\u4ee5\u63a5\u53d7\u4efb\u610f\u7684\u53c2\u6570\uff0c\u4f20\u9012\u5230func\u4e2d\n",
      "       print \u201cnew function add by decorator\u201d\n",
      "       func(*args,**kwargs)\n",
      "   return warpper\n",
      "```\n",
      "* \u4e0b\u9762\u662f\u63a5\u53d7\u53c2\u6570\u7684decorator\u7684\u5199\u6cd5\n",
      "```Python\n",
      "def decoratorWithArgs(a):\n",
      "   def decorator(func):\n",
      "      def warpper(*args,**kwargs):\n",
      "         print \"I have you input ars \"+a\n",
      "         func(*args,**kwargs)\n",
      "      return warpper\n",
      "   return decorator\n",
      "```\n",
      "* \u4e0b\u9762\u662f\u88c5\u9970\u5668\u7684\u7528\u6cd5\n",
      "\n",
      "```Python\n",
      "\n",
      "@decorator\n",
      "def add1(x,y):\n",
      "    print x+y\n",
      "\n",
      "@decoratorWithArgs('withArgs')\n",
      "def add2(x,y):\n",
      "    print x+y\n",
      "```"
     ]
    },
    {
     "cell_type": "code",
     "collapsed": false,
     "input": [
      "#####map\uff0cfilter\uff0creduce\u8868\u8fbe\u5f0f\u548clambda\u533f\u540d\u51fd\u6570\n",
      "a=[1,2,3]\n",
      "b=[4,5,6]\n",
      "f=range(-10,10)\n",
      "c=map(lambda x,y:x+y,a,b)\n",
      "d=reduce(lambda x,y:x*y,b)\n",
      "g=filter(lambda x:x>0,f)\n",
      "print  c,d,g"
     ],
     "language": "python",
     "metadata": {},
     "outputs": [
      {
       "output_type": "stream",
       "stream": "stdout",
       "text": [
        "[5, 7, 9] 120 [1, 2, 3, 4, 5, 6, 7, 8, 9]\n"
       ]
      }
     ],
     "prompt_number": 28
    },
    {
     "cell_type": "code",
     "collapsed": false,
     "input": [
      "#\u5217\u8868\u751f\u6210\u5f0f\n",
      "l=[1,2,3,4,5,6,7]\n",
      "print [x*x for x in l]\n",
      "print [x*x for x in l if x%2==0]#\u540c\u65f6\u5b9e\u73b0\u4e86map\u548cfilter\u7684\u529f\u80fd"
     ],
     "language": "python",
     "metadata": {},
     "outputs": [
      {
       "output_type": "stream",
       "stream": "stdout",
       "text": [
        "[1, 4, 9, 16, 25, 36, 49]\n",
        "[4, 16, 36]\n"
       ]
      }
     ],
     "prompt_number": 26
    },
    {
     "cell_type": "code",
     "collapsed": false,
     "input": [
      "#\u5b9e\u9a8c\u5207\u7247\n",
      "l=range(10)\n",
      "print l[0:10]\n",
      "print l[-1:-11:-1]"
     ],
     "language": "python",
     "metadata": {},
     "outputs": [
      {
       "output_type": "stream",
       "stream": "stdout",
       "text": [
        "[0, 1, 2, 3, 4, 5, 6, 7, 8, 9]\n",
        "[9, 8, 7, 6, 5, 4, 3, 2, 1, 0]\n"
       ]
      }
     ],
     "prompt_number": 34
    },
    {
     "cell_type": "code",
     "collapsed": false,
     "input": [
      "#\u5b9e\u9a8c\u88c5\u9970\u5668\n",
      "def decorator(func):\n",
      " def warpper(*args,**kwargs):#\u4e00\u79cd\u7ea6\u5b9a\uff0c\u8fd9\u6837\u53ef\u4ee5\u63a5\u53d7\u4efb\u610f\u7684\u53c2\u6570\uff0c\u4f20\u9012\u5230func\u4e2d\n",
      "     print \"new function add by decorator\"\n",
      "     func(*args,**kwargs)\n",
      " return warpper\n",
      "    \n",
      "def decoratorWithArgs(a):\n",
      " def decorator(func):\n",
      "    def warpper(*args,**kwargs):\n",
      "       print \"I have you input ars \"+a\n",
      "       func(*args,**kwargs)\n",
      "    return warpper\n",
      " return decorator\n",
      "\n",
      "@decorator\n",
      "def add1(x,y):\n",
      "    print x+y\n",
      "\n",
      "@decoratorWithArgs('withArgs')\n",
      "def add2(x,y):\n",
      "    print x+y\n",
      "add1(1,1)\n",
      "add2(1,2)\n"
     ],
     "language": "python",
     "metadata": {},
     "outputs": [
      {
       "output_type": "stream",
       "stream": "stdout",
       "text": [
        "new function add by decorator\n",
        "2\n",
        "I have you input ars withArgs\n",
        "3\n"
       ]
      }
     ],
     "prompt_number": 44
    },
    {
     "cell_type": "code",
     "collapsed": false,
     "input": [],
     "language": "python",
     "metadata": {},
     "outputs": []
    }
   ],
   "metadata": {}
  }
 ]
}